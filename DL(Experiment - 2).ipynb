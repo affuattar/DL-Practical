{
 "cells": [
  {
   "cell_type": "markdown",
   "id": "71ad8069-1cae-443b-8a01-4934a020a294",
   "metadata": {},
   "source": [
    "#### DATE"
   ]
  },
  {
   "cell_type": "raw",
   "id": "66b23ba6-c3b2-4011-83e2-a269988b3d7a",
   "metadata": {},
   "source": [
    "11/02/2025"
   ]
  },
  {
   "cell_type": "markdown",
   "id": "ac2096bc-de67-4045-affe-41806e95e73a",
   "metadata": {},
   "source": [
    "#### NAME"
   ]
  },
  {
   "cell_type": "raw",
   "id": "41f45f91-80ab-4562-a145-65996afbdb31",
   "metadata": {},
   "source": [
    "Affaan Irfan Attar"
   ]
  },
  {
   "cell_type": "markdown",
   "id": "7a5b28a1-d811-46f6-981a-0e1302fc4228",
   "metadata": {},
   "source": [
    "#### YEAR-DIVISION"
   ]
  },
  {
   "cell_type": "raw",
   "id": "7591b2bf-6cbb-4104-8989-360080849797",
   "metadata": {},
   "source": [
    "BE-B"
   ]
  },
  {
   "cell_type": "markdown",
   "id": "bbb3757f-f84c-4145-ba37-d72207eaf05e",
   "metadata": {},
   "source": [
    "#### ROLL NO."
   ]
  },
  {
   "cell_type": "raw",
   "id": "3c21fe55-4367-4e64-9af5-3137185a7f81",
   "metadata": {},
   "source": [
    "50"
   ]
  },
  {
   "cell_type": "markdown",
   "id": "5ac15ba9-6c6a-45f1-a431-4a8c984074c4",
   "metadata": {},
   "source": [
    "#### SUBJECT"
   ]
  },
  {
   "cell_type": "raw",
   "id": "45dd5c5f-5d7b-4ec6-96e6-37d2718553a4",
   "metadata": {},
   "source": [
    "LP-V(Deep Learning)"
   ]
  },
  {
   "cell_type": "markdown",
   "id": "6b6ea2dc-f938-4bf5-919a-34cf0f68cd7c",
   "metadata": {},
   "source": [
    "#### ASSIGNMENT NO."
   ]
  },
  {
   "cell_type": "raw",
   "id": "40b7eb5b-11bf-49cb-9ef1-96c4fc7716df",
   "metadata": {},
   "source": [
    "2"
   ]
  },
  {
   "cell_type": "markdown",
   "id": "ce416b58-3e74-4782-b496-1a00b058c598",
   "metadata": {},
   "source": [
    "#### PROBLEM STATEMENT"
   ]
  },
  {
   "cell_type": "raw",
   "id": "2147fdee-3758-4add-a14a-867cdb751e7a",
   "metadata": {},
   "source": [
    "Classification using Deep neural network. Binary classification using Deep \n",
    "Neural Networks  \n",
    "Example: Classify movie reviews into positive\" reviews and \"negative\" reviews, just based on the text \n",
    "content of the reviews. Use the IMDB dataset. "
   ]
  },
  {
   "cell_type": "markdown",
   "id": "22dd258a-cbf6-4ed1-877e-a64be463855a",
   "metadata": {},
   "source": [
    "#### Import necessary Libraries and Packages"
   ]
  },
  {
   "cell_type": "code",
   "execution_count": 2,
   "id": "43ee6ed9-6967-4547-953a-087d03fd0371",
   "metadata": {},
   "outputs": [],
   "source": [
    "import numpy as np\n",
    "from keras.datasets import imdb\n",
    "from keras.preprocessing.sequence import pad_sequences\n",
    "from keras.models import Sequential\n",
    "from keras.layers import Embedding, LSTM, Dense, Dropout\n",
    "from keras.regularizers import l2\n",
    "from keras.optimizers import Adam\n",
    "from keras.callbacks import EarlyStopping"
   ]
  },
  {
   "cell_type": "markdown",
   "id": "9b965425-052a-489a-9987-b89dada2114f",
   "metadata": {},
   "source": [
    "#### Load the IMDB dataset"
   ]
  },
  {
   "cell_type": "code",
   "execution_count": 3,
   "id": "d6d234b7-8b32-48c4-88d3-dab2b3d9db7f",
   "metadata": {},
   "outputs": [],
   "source": [
    "(x_train, y_train), (x_test, y_test) = imdb.load_data(num_words=10000)"
   ]
  },
  {
   "cell_type": "markdown",
   "id": "f1275d62-8a28-4c4b-aa29-6f4ee56cfb0f",
   "metadata": {},
   "source": [
    "#### Preprocess data"
   ]
  },
  {
   "cell_type": "code",
   "execution_count": 4,
   "id": "79c690ee-5784-40b8-8719-62363ec357de",
   "metadata": {},
   "outputs": [],
   "source": [
    "x_train = [[word_index if word_index < 10000 else 0 for word_index in sequence] for sequence in x_train]\n",
    "x_test = [[word_index if word_index < 10000 else 0 for word_index in sequence] for sequence in x_test]\n",
    "x_train = pad_sequences(x_train, maxlen=100)\n",
    "x_test = pad_sequences(x_test, maxlen=100)"
   ]
  },
  {
   "cell_type": "markdown",
   "id": "63a5ff69-2dc0-4df4-873d-54a7bed59c06",
   "metadata": {},
   "source": [
    "#### Define model"
   ]
  },
  {
   "cell_type": "code",
   "execution_count": 6,
   "id": "5bd4a1c1-cf85-4f7b-8390-a98c18b8ed76",
   "metadata": {},
   "outputs": [],
   "source": [
    "model = Sequential()\n",
    "model.add(Embedding(input_dim=10000, output_dim=128, input_length=100))\n",
    "model.add(LSTM(128, kernel_regularizer=l2(0.001)))  # Removed one LSTM layer\n",
    "model.add(Dropout(0.4))  # Increased dropout\n",
    "model.add(Dense(1, activation='sigmoid'))\n",
    "model.compile(loss='binary_crossentropy', optimizer=Adam(learning_rate=0.0003), metrics=['accuracy'])"
   ]
  },
  {
   "cell_type": "markdown",
   "id": "cc5b85df-a034-4338-9295-6ac25781b22e",
   "metadata": {},
   "source": [
    "#### Early stopping to prevent overfitting"
   ]
  },
  {
   "cell_type": "code",
   "execution_count": 7,
   "id": "20f7750e-74f1-40e1-9261-dd7788611404",
   "metadata": {},
   "outputs": [],
   "source": [
    "early_stop = EarlyStopping(monitor='val_loss', patience=2, restore_best_weights=True)"
   ]
  },
  {
   "cell_type": "markdown",
   "id": "c18c64a1-fc93-4cd0-af9d-402bc6aa44fb",
   "metadata": {},
   "source": [
    "#### Train model"
   ]
  },
  {
   "cell_type": "code",
   "execution_count": 8,
   "id": "1281846d-ee74-4387-b1f7-bbaa08834d2c",
   "metadata": {},
   "outputs": [
    {
     "name": "stdout",
     "output_type": "stream",
     "text": [
      "Epoch 1/10\n",
      "\u001b[1m313/313\u001b[0m \u001b[32m━━━━━━━━━━━━━━━━━━━━\u001b[0m\u001b[37m\u001b[0m \u001b[1m22s\u001b[0m 62ms/step - accuracy: 0.6404 - loss: 0.7290 - val_accuracy: 0.8328 - val_loss: 0.4298\n",
      "Epoch 2/10\n",
      "\u001b[1m313/313\u001b[0m \u001b[32m━━━━━━━━━━━━━━━━━━━━\u001b[0m\u001b[37m\u001b[0m \u001b[1m21s\u001b[0m 68ms/step - accuracy: 0.8798 - loss: 0.3250 - val_accuracy: 0.8482 - val_loss: 0.3689\n",
      "Epoch 3/10\n",
      "\u001b[1m313/313\u001b[0m \u001b[32m━━━━━━━━━━━━━━━━━━━━\u001b[0m\u001b[37m\u001b[0m \u001b[1m21s\u001b[0m 67ms/step - accuracy: 0.9127 - loss: 0.2544 - val_accuracy: 0.8426 - val_loss: 0.3742\n",
      "Epoch 4/10\n",
      "\u001b[1m313/313\u001b[0m \u001b[32m━━━━━━━━━━━━━━━━━━━━\u001b[0m\u001b[37m\u001b[0m \u001b[1m22s\u001b[0m 70ms/step - accuracy: 0.9360 - loss: 0.2031 - val_accuracy: 0.8326 - val_loss: 0.4342\n"
     ]
    }
   ],
   "source": [
    "history = model.fit(x_train, y_train, epochs=10, batch_size=64, validation_split=0.2, callbacks=[early_stop])"
   ]
  },
  {
   "cell_type": "code",
   "execution_count": 2,
   "id": "1acbbb89-eba4-46b1-94fa-7436295ccf73",
   "metadata": {},
   "outputs": [
    {
     "ename": "NameError",
     "evalue": "name 'model' is not defined",
     "output_type": "error",
     "traceback": [
      "\u001b[1;31m---------------------------------------------------------------------------\u001b[0m",
      "\u001b[1;31mNameError\u001b[0m                                 Traceback (most recent call last)",
      "Cell \u001b[1;32mIn[2], line 1\u001b[0m\n\u001b[1;32m----> 1\u001b[0m loss, acc \u001b[38;5;241m=\u001b[39m model\u001b[38;5;241m.\u001b[39mevaluate(x_test, y_test, batch_size\u001b[38;5;241m=\u001b[39m\u001b[38;5;241m64\u001b[39m)\n\u001b[0;32m      2\u001b[0m \u001b[38;5;28mprint\u001b[39m(\u001b[38;5;124mf\u001b[39m\u001b[38;5;124m'\u001b[39m\u001b[38;5;124mTest accuracy: \u001b[39m\u001b[38;5;132;01m{\u001b[39;00macc\u001b[38;5;132;01m:\u001b[39;00m\u001b[38;5;124m.4f\u001b[39m\u001b[38;5;132;01m}\u001b[39;00m\u001b[38;5;124m, Test loss: \u001b[39m\u001b[38;5;132;01m{\u001b[39;00mloss\u001b[38;5;132;01m:\u001b[39;00m\u001b[38;5;124m.4f\u001b[39m\u001b[38;5;132;01m}\u001b[39;00m\u001b[38;5;124m'\u001b[39m)\n",
      "\u001b[1;31mNameError\u001b[0m: name 'model' is not defined"
     ]
    }
   ],
   "source": [
    "loss, acc = model.evaluate(x_test, y_test, batch_size=64)\n",
    "print(f'Test accuracy: {acc:.4f}, Test loss: {loss:.4f}')"
   ]
  },
  {
   "cell_type": "code",
   "execution_count": null,
   "id": "bdca4f07-3f1f-46dc-b47e-87b0f081a8da",
   "metadata": {},
   "outputs": [],
   "source": []
  },
  {
   "cell_type": "code",
   "execution_count": null,
   "id": "89aec683-e125-4fbe-aaed-176b207c5e35",
   "metadata": {},
   "outputs": [],
   "source": []
  }
 ],
 "metadata": {
  "kernelspec": {
   "display_name": "Python 3 (ipykernel)",
   "language": "python",
   "name": "python3"
  },
  "language_info": {
   "codemirror_mode": {
    "name": "ipython",
    "version": 3
   },
   "file_extension": ".py",
   "mimetype": "text/x-python",
   "name": "python",
   "nbconvert_exporter": "python",
   "pygments_lexer": "ipython3",
   "version": "3.11.7"
  }
 },
 "nbformat": 4,
 "nbformat_minor": 5
}
