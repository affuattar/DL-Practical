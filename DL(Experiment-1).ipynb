{
 "cells": [
  {
   "cell_type": "markdown",
   "id": "db3a6b68-ecdc-47a2-80e1-3a2335e82aff",
   "metadata": {},
   "source": [
    "#### DATE"
   ]
  },
  {
   "cell_type": "raw",
   "id": "2433ef7f-9763-4b42-afa8-680961132843",
   "metadata": {},
   "source": [
    "29/01/2025"
   ]
  },
  {
   "cell_type": "markdown",
   "id": "c8c1b69f-573e-4e31-9b21-de9312bbee38",
   "metadata": {},
   "source": [
    "#### NAME"
   ]
  },
  {
   "cell_type": "raw",
   "id": "27cec469-1124-4f81-861d-8a98ed5fc466",
   "metadata": {},
   "source": [
    "Affaan Irfan Attar"
   ]
  },
  {
   "cell_type": "markdown",
   "id": "587f6b5f-f8b3-4f34-811b-523111152e3c",
   "metadata": {},
   "source": [
    "#### YEAR-DIVISION"
   ]
  },
  {
   "cell_type": "raw",
   "id": "5841874d-67eb-4e4d-9162-377c4bc91a7e",
   "metadata": {},
   "source": [
    "BE-B"
   ]
  },
  {
   "cell_type": "markdown",
   "id": "591ba8b8-3769-4fd6-b5dc-479279bdb91f",
   "metadata": {},
   "source": [
    "#### ROLL NO."
   ]
  },
  {
   "cell_type": "raw",
   "id": "df2da9de-3866-4d8f-bd37-1c906b1c4468",
   "metadata": {},
   "source": [
    "50"
   ]
  },
  {
   "cell_type": "markdown",
   "id": "6009b9a5-bc5b-463b-a885-c2698908bbc7",
   "metadata": {},
   "source": [
    "#### SUBJECT"
   ]
  },
  {
   "cell_type": "raw",
   "id": "081a98a6-3fc0-4b74-a3c5-05962b509c13",
   "metadata": {},
   "source": [
    "LP-V(Deep Learning)"
   ]
  },
  {
   "cell_type": "markdown",
   "id": "4e33c7e5-bc4f-4bf2-a31b-ce747a47e5ed",
   "metadata": {},
   "source": [
    "#### ASSIGNMENT NO."
   ]
  },
  {
   "cell_type": "raw",
   "id": "497237a8-3955-45b3-ae60-b8c90f48effd",
   "metadata": {},
   "source": [
    "1"
   ]
  },
  {
   "cell_type": "markdown",
   "id": "95548013-f48c-49cc-9d58-1c7a5a8b8eba",
   "metadata": {},
   "source": [
    "#### PROBLEM STATEMENT"
   ]
  },
  {
   "cell_type": "raw",
   "id": "4c4d3533-b126-4a3c-8421-0ad7aef0e9c1",
   "metadata": {},
   "source": [
    "Linear regression by using Deep Neural network: Implement Boston housing price prediction \n",
    "problem by Linear regression using Deep Neural network. Use Boston House price prediction \n",
    "dataset. "
   ]
  },
  {
   "cell_type": "markdown",
   "id": "796f0fc3-6dc9-4edb-8ad4-d8b6800701e6",
   "metadata": {},
   "source": [
    "#### Importing Necessary Packages And Libraries"
   ]
  },
  {
   "cell_type": "code",
   "execution_count": 1,
   "id": "aab88b28-604d-4fa7-b027-b2c65973e865",
   "metadata": {},
   "outputs": [],
   "source": [
    "import pandas as pd\n",
    "from sklearn.preprocessing import StandardScaler\n",
    "from sklearn.model_selection import train_test_split\n",
    "from keras.models import Sequential\n",
    "from keras.layers import Dense, Dropout\n",
    "from keras.callbacks import EarlyStopping\n",
    "import matplotlib.pyplot as plt\n",
    "from keras.losses import MeanSquaredError"
   ]
  },
  {
   "cell_type": "markdown",
   "id": "c87bae24-fbf8-4fdf-996a-f2f00b440d90",
   "metadata": {},
   "source": [
    "#### Attribute Information (in order) :"
   ]
  },
  {
   "cell_type": "raw",
   "id": "f69efc5d-303b-440c-b1bd-21c2e6cd199c",
   "metadata": {},
   "source": [
    "1. CRIM     per capita crime rate by town\n",
    "2. ZN       proportion of residential land zoned for lots over 25,000 sq.ft.\n",
    "3. INDUS    proportion of non-retail business acres per town\n",
    "4. CHAS     Charles River dummy variable (= 1 if tract bounds river; 0 otherwise)\n",
    "5. NOX      nitric oxides concentration (parts per 10 million)\n",
    "6. RM       average number of rooms per dwelling\n",
    "7. AGE      proportion of owner-occupied units built prior to 1940\n",
    "8. DIS      weighted distances to five Boston employment centres\n",
    "9. RAD      index of accessibility to radial highways\n",
    "10. TAX      full-value property-tax rate per $10,000\n",
    "11. PTRATIO  pupil-teacher ratio by town\n",
    "12. B        1000(Bk - 0.63)^2 where Bk is the proportion of blacks by town\n",
    "13. LSTAT    % lower status of the population\n",
    "14. MEDV    Median value of owner-occupied homes in $1000's"
   ]
  },
  {
   "cell_type": "markdown",
   "id": "f04e246a-0308-4723-94a3-d9c9a6422d8c",
   "metadata": {},
   "source": [
    "#### Load The Dataset"
   ]
  },
  {
   "cell_type": "code",
   "execution_count": 2,
   "id": "c31fe25b-8ad4-4a12-8a98-55134083d1a0",
   "metadata": {},
   "outputs": [],
   "source": [
    "df = pd.read_csv('Boston_house_Pricing_data.csv')"
   ]
  },
  {
   "cell_type": "markdown",
   "id": "1c6dba16-4952-4a3f-9cf6-e9851ebd214f",
   "metadata": {},
   "source": [
    "#### Display the first few rows of the Dataset"
   ]
  },
  {
   "cell_type": "code",
   "execution_count": 3,
   "id": "5fa80774-96bb-4887-94d0-d25e280a7433",
   "metadata": {},
   "outputs": [
    {
     "data": {
      "text/html": [
       "<div>\n",
       "<style scoped>\n",
       "    .dataframe tbody tr th:only-of-type {\n",
       "        vertical-align: middle;\n",
       "    }\n",
       "\n",
       "    .dataframe tbody tr th {\n",
       "        vertical-align: top;\n",
       "    }\n",
       "\n",
       "    .dataframe thead th {\n",
       "        text-align: right;\n",
       "    }\n",
       "</style>\n",
       "<table border=\"1\" class=\"dataframe\">\n",
       "  <thead>\n",
       "    <tr style=\"text-align: right;\">\n",
       "      <th></th>\n",
       "      <th>CRIM</th>\n",
       "      <th>ZN</th>\n",
       "      <th>INDUS</th>\n",
       "      <th>CHAS</th>\n",
       "      <th>NOX</th>\n",
       "      <th>RM</th>\n",
       "      <th>AGE</th>\n",
       "      <th>DIS</th>\n",
       "      <th>RAD</th>\n",
       "      <th>TAX</th>\n",
       "      <th>PTRATIO</th>\n",
       "      <th>B</th>\n",
       "      <th>LSTAT</th>\n",
       "      <th>MEDV</th>\n",
       "    </tr>\n",
       "  </thead>\n",
       "  <tbody>\n",
       "    <tr>\n",
       "      <th>0</th>\n",
       "      <td>0.00632</td>\n",
       "      <td>18.0</td>\n",
       "      <td>2.31</td>\n",
       "      <td>0</td>\n",
       "      <td>0.538</td>\n",
       "      <td>6.575</td>\n",
       "      <td>65.2</td>\n",
       "      <td>4.0900</td>\n",
       "      <td>1</td>\n",
       "      <td>296</td>\n",
       "      <td>15.3</td>\n",
       "      <td>396.90</td>\n",
       "      <td>4.98</td>\n",
       "      <td>24.0</td>\n",
       "    </tr>\n",
       "    <tr>\n",
       "      <th>1</th>\n",
       "      <td>0.02731</td>\n",
       "      <td>0.0</td>\n",
       "      <td>7.07</td>\n",
       "      <td>0</td>\n",
       "      <td>0.469</td>\n",
       "      <td>6.421</td>\n",
       "      <td>78.9</td>\n",
       "      <td>4.9671</td>\n",
       "      <td>2</td>\n",
       "      <td>242</td>\n",
       "      <td>17.8</td>\n",
       "      <td>396.90</td>\n",
       "      <td>9.14</td>\n",
       "      <td>21.6</td>\n",
       "    </tr>\n",
       "    <tr>\n",
       "      <th>2</th>\n",
       "      <td>0.02729</td>\n",
       "      <td>0.0</td>\n",
       "      <td>7.07</td>\n",
       "      <td>0</td>\n",
       "      <td>0.469</td>\n",
       "      <td>7.185</td>\n",
       "      <td>61.1</td>\n",
       "      <td>4.9671</td>\n",
       "      <td>2</td>\n",
       "      <td>242</td>\n",
       "      <td>17.8</td>\n",
       "      <td>392.83</td>\n",
       "      <td>4.03</td>\n",
       "      <td>34.7</td>\n",
       "    </tr>\n",
       "    <tr>\n",
       "      <th>3</th>\n",
       "      <td>0.03237</td>\n",
       "      <td>0.0</td>\n",
       "      <td>2.18</td>\n",
       "      <td>0</td>\n",
       "      <td>0.458</td>\n",
       "      <td>6.998</td>\n",
       "      <td>45.8</td>\n",
       "      <td>6.0622</td>\n",
       "      <td>3</td>\n",
       "      <td>222</td>\n",
       "      <td>18.7</td>\n",
       "      <td>394.63</td>\n",
       "      <td>2.94</td>\n",
       "      <td>33.4</td>\n",
       "    </tr>\n",
       "    <tr>\n",
       "      <th>4</th>\n",
       "      <td>0.06905</td>\n",
       "      <td>0.0</td>\n",
       "      <td>2.18</td>\n",
       "      <td>0</td>\n",
       "      <td>0.458</td>\n",
       "      <td>7.147</td>\n",
       "      <td>54.2</td>\n",
       "      <td>6.0622</td>\n",
       "      <td>3</td>\n",
       "      <td>222</td>\n",
       "      <td>18.7</td>\n",
       "      <td>396.90</td>\n",
       "      <td>5.33</td>\n",
       "      <td>36.2</td>\n",
       "    </tr>\n",
       "  </tbody>\n",
       "</table>\n",
       "</div>"
      ],
      "text/plain": [
       "      CRIM    ZN  INDUS  CHAS    NOX     RM   AGE     DIS  RAD  TAX  PTRATIO  \\\n",
       "0  0.00632  18.0   2.31     0  0.538  6.575  65.2  4.0900    1  296     15.3   \n",
       "1  0.02731   0.0   7.07     0  0.469  6.421  78.9  4.9671    2  242     17.8   \n",
       "2  0.02729   0.0   7.07     0  0.469  7.185  61.1  4.9671    2  242     17.8   \n",
       "3  0.03237   0.0   2.18     0  0.458  6.998  45.8  6.0622    3  222     18.7   \n",
       "4  0.06905   0.0   2.18     0  0.458  7.147  54.2  6.0622    3  222     18.7   \n",
       "\n",
       "        B  LSTAT  MEDV  \n",
       "0  396.90   4.98  24.0  \n",
       "1  396.90   9.14  21.6  \n",
       "2  392.83   4.03  34.7  \n",
       "3  394.63   2.94  33.4  \n",
       "4  396.90   5.33  36.2  "
      ]
     },
     "execution_count": 3,
     "metadata": {},
     "output_type": "execute_result"
    }
   ],
   "source": [
    "df.head()"
   ]
  },
  {
   "cell_type": "markdown",
   "id": "cd5ef145-176e-4dc5-9065-a9152bc7f19d",
   "metadata": {},
   "source": [
    "#### Split the data into input and output variables "
   ]
  },
  {
   "cell_type": "code",
   "execution_count": 4,
   "id": "477e6e6c-3663-4906-bbdc-db55449bff23",
   "metadata": {},
   "outputs": [],
   "source": [
    "x = df.drop('MEDV', axis = 1)\n",
    "y = df[['MEDV']]"
   ]
  },
  {
   "cell_type": "markdown",
   "id": "548c6034-38c6-479d-9e79-c44129e059c7",
   "metadata": {},
   "source": [
    "#### Scale the input features"
   ]
  },
  {
   "cell_type": "code",
   "execution_count": 5,
   "id": "560c474c-a10f-4ade-a0d4-9f938252420b",
   "metadata": {},
   "outputs": [],
   "source": [
    "scaler = StandardScaler()\n",
    "x_scaled = scaler.fit_transform(x)\n",
    "y_scaled = scaler.fit_transform(y)"
   ]
  },
  {
   "cell_type": "markdown",
   "id": "000fac4b-84e8-4acb-892f-2c7a05c34807",
   "metadata": {},
   "source": [
    "#### Check the attributes in the Data"
   ]
  },
  {
   "cell_type": "code",
   "execution_count": 6,
   "id": "881a7394-770f-44ff-ab83-d97ea8cfab57",
   "metadata": {},
   "outputs": [
    {
     "name": "stdout",
     "output_type": "stream",
     "text": [
      "<class 'pandas.core.frame.DataFrame'>\n",
      "RangeIndex: 506 entries, 0 to 505\n",
      "Data columns (total 14 columns):\n",
      " #   Column   Non-Null Count  Dtype  \n",
      "---  ------   --------------  -----  \n",
      " 0   CRIM     506 non-null    float64\n",
      " 1   ZN       506 non-null    float64\n",
      " 2   INDUS    506 non-null    float64\n",
      " 3   CHAS     506 non-null    int64  \n",
      " 4   NOX      506 non-null    float64\n",
      " 5   RM       501 non-null    float64\n",
      " 6   AGE      506 non-null    float64\n",
      " 7   DIS      506 non-null    float64\n",
      " 8   RAD      506 non-null    int64  \n",
      " 9   TAX      506 non-null    int64  \n",
      " 10  PTRATIO  506 non-null    float64\n",
      " 11  B        506 non-null    float64\n",
      " 12  LSTAT    506 non-null    float64\n",
      " 13  MEDV     506 non-null    float64\n",
      "dtypes: float64(11), int64(3)\n",
      "memory usage: 55.5 KB\n"
     ]
    }
   ],
   "source": [
    "df.info()"
   ]
  },
  {
   "cell_type": "markdown",
   "id": "c21c096d-5bd6-4464-8a1c-1bf859611b61",
   "metadata": {},
   "source": [
    "#### Split the Dataset"
   ]
  },
  {
   "cell_type": "code",
   "execution_count": 7,
   "id": "c2a08b50-5393-411e-9e97-e547c0577399",
   "metadata": {},
   "outputs": [],
   "source": [
    "X_train, X_test, y_train, y_test = train_test_split(x, y, test_size=0.3, random_state=42)"
   ]
  },
  {
   "cell_type": "markdown",
   "id": "64ac6a1b-8a44-4681-ae23-9de9e721305d",
   "metadata": {},
   "source": [
    "#### Print the shapes of the training and testing sets "
   ]
  },
  {
   "cell_type": "code",
   "execution_count": 8,
   "id": "8fc662e6-f3f2-495a-a740-43d976e2c299",
   "metadata": {},
   "outputs": [
    {
     "name": "stdout",
     "output_type": "stream",
     "text": [
      "Training set shape: (354, 13) (354, 1)\n",
      "Testing set shape: (152, 13) (152, 1)\n"
     ]
    }
   ],
   "source": [
    "print('Training set shape:', X_train.shape, y_train.shape) \n",
    "print('Testing set shape:', X_test.shape, y_test.shape) "
   ]
  },
  {
   "cell_type": "markdown",
   "id": "2b2946a7-cc4c-4920-8d01-b92a43ee1526",
   "metadata": {},
   "source": [
    "#### Define the model architecture "
   ]
  },
  {
   "cell_type": "code",
   "execution_count": 10,
   "id": "509453dc-a2aa-4e24-a68d-0ea6ea1fdac6",
   "metadata": {},
   "outputs": [],
   "source": [
    "model = Sequential() \n",
    "model.add(Dense(64,input_dim=13,activation='relu'))  \n",
    "model.add(Dropout(0.2)) \n",
    "model.add(Dense(32,activation='relu')) \n",
    "model.add(Dense(1)) "
   ]
  },
  {
   "cell_type": "markdown",
   "id": "65f32fd9-0c8b-4cf2-a24d-6501caa0d010",
   "metadata": {},
   "source": [
    "#### Display the model summary"
   ]
  },
  {
   "cell_type": "code",
   "execution_count": 11,
   "id": "5b3cae2d-580d-4c1f-b104-13562a9b45a6",
   "metadata": {},
   "outputs": [
    {
     "data": {
      "text/html": [
       "<pre style=\"white-space:pre;overflow-x:auto;line-height:normal;font-family:Menlo,'DejaVu Sans Mono',consolas,'Courier New',monospace\"><span style=\"font-weight: bold\">Model: \"sequential_1\"</span>\n",
       "</pre>\n"
      ],
      "text/plain": [
       "\u001b[1mModel: \"sequential_1\"\u001b[0m\n"
      ]
     },
     "metadata": {},
     "output_type": "display_data"
    },
    {
     "data": {
      "text/html": [
       "<pre style=\"white-space:pre;overflow-x:auto;line-height:normal;font-family:Menlo,'DejaVu Sans Mono',consolas,'Courier New',monospace\">┏━━━━━━━━━━━━━━━━━━━━━━━━━━━━━━━━━━━━━━┳━━━━━━━━━━━━━━━━━━━━━━━━━━━━━┳━━━━━━━━━━━━━━━━━┓\n",
       "┃<span style=\"font-weight: bold\"> Layer (type)                         </span>┃<span style=\"font-weight: bold\"> Output Shape                </span>┃<span style=\"font-weight: bold\">         Param # </span>┃\n",
       "┡━━━━━━━━━━━━━━━━━━━━━━━━━━━━━━━━━━━━━━╇━━━━━━━━━━━━━━━━━━━━━━━━━━━━━╇━━━━━━━━━━━━━━━━━┩\n",
       "│ dense_3 (<span style=\"color: #0087ff; text-decoration-color: #0087ff\">Dense</span>)                      │ (<span style=\"color: #00d7ff; text-decoration-color: #00d7ff\">None</span>, <span style=\"color: #00af00; text-decoration-color: #00af00\">64</span>)                  │             <span style=\"color: #00af00; text-decoration-color: #00af00\">896</span> │\n",
       "├──────────────────────────────────────┼─────────────────────────────┼─────────────────┤\n",
       "│ dropout_1 (<span style=\"color: #0087ff; text-decoration-color: #0087ff\">Dropout</span>)                  │ (<span style=\"color: #00d7ff; text-decoration-color: #00d7ff\">None</span>, <span style=\"color: #00af00; text-decoration-color: #00af00\">64</span>)                  │               <span style=\"color: #00af00; text-decoration-color: #00af00\">0</span> │\n",
       "├──────────────────────────────────────┼─────────────────────────────┼─────────────────┤\n",
       "│ dense_4 (<span style=\"color: #0087ff; text-decoration-color: #0087ff\">Dense</span>)                      │ (<span style=\"color: #00d7ff; text-decoration-color: #00d7ff\">None</span>, <span style=\"color: #00af00; text-decoration-color: #00af00\">32</span>)                  │           <span style=\"color: #00af00; text-decoration-color: #00af00\">2,080</span> │\n",
       "├──────────────────────────────────────┼─────────────────────────────┼─────────────────┤\n",
       "│ dense_5 (<span style=\"color: #0087ff; text-decoration-color: #0087ff\">Dense</span>)                      │ (<span style=\"color: #00d7ff; text-decoration-color: #00d7ff\">None</span>, <span style=\"color: #00af00; text-decoration-color: #00af00\">1</span>)                   │              <span style=\"color: #00af00; text-decoration-color: #00af00\">33</span> │\n",
       "└──────────────────────────────────────┴─────────────────────────────┴─────────────────┘\n",
       "</pre>\n"
      ],
      "text/plain": [
       "┏━━━━━━━━━━━━━━━━━━━━━━━━━━━━━━━━━━━━━━┳━━━━━━━━━━━━━━━━━━━━━━━━━━━━━┳━━━━━━━━━━━━━━━━━┓\n",
       "┃\u001b[1m \u001b[0m\u001b[1mLayer (type)                        \u001b[0m\u001b[1m \u001b[0m┃\u001b[1m \u001b[0m\u001b[1mOutput Shape               \u001b[0m\u001b[1m \u001b[0m┃\u001b[1m \u001b[0m\u001b[1m        Param #\u001b[0m\u001b[1m \u001b[0m┃\n",
       "┡━━━━━━━━━━━━━━━━━━━━━━━━━━━━━━━━━━━━━━╇━━━━━━━━━━━━━━━━━━━━━━━━━━━━━╇━━━━━━━━━━━━━━━━━┩\n",
       "│ dense_3 (\u001b[38;5;33mDense\u001b[0m)                      │ (\u001b[38;5;45mNone\u001b[0m, \u001b[38;5;34m64\u001b[0m)                  │             \u001b[38;5;34m896\u001b[0m │\n",
       "├──────────────────────────────────────┼─────────────────────────────┼─────────────────┤\n",
       "│ dropout_1 (\u001b[38;5;33mDropout\u001b[0m)                  │ (\u001b[38;5;45mNone\u001b[0m, \u001b[38;5;34m64\u001b[0m)                  │               \u001b[38;5;34m0\u001b[0m │\n",
       "├──────────────────────────────────────┼─────────────────────────────┼─────────────────┤\n",
       "│ dense_4 (\u001b[38;5;33mDense\u001b[0m)                      │ (\u001b[38;5;45mNone\u001b[0m, \u001b[38;5;34m32\u001b[0m)                  │           \u001b[38;5;34m2,080\u001b[0m │\n",
       "├──────────────────────────────────────┼─────────────────────────────┼─────────────────┤\n",
       "│ dense_5 (\u001b[38;5;33mDense\u001b[0m)                      │ (\u001b[38;5;45mNone\u001b[0m, \u001b[38;5;34m1\u001b[0m)                   │              \u001b[38;5;34m33\u001b[0m │\n",
       "└──────────────────────────────────────┴─────────────────────────────┴─────────────────┘\n"
      ]
     },
     "metadata": {},
     "output_type": "display_data"
    },
    {
     "data": {
      "text/html": [
       "<pre style=\"white-space:pre;overflow-x:auto;line-height:normal;font-family:Menlo,'DejaVu Sans Mono',consolas,'Courier New',monospace\"><span style=\"font-weight: bold\"> Total params: </span><span style=\"color: #00af00; text-decoration-color: #00af00\">3,009</span> (11.75 KB)\n",
       "</pre>\n"
      ],
      "text/plain": [
       "\u001b[1m Total params: \u001b[0m\u001b[38;5;34m3,009\u001b[0m (11.75 KB)\n"
      ]
     },
     "metadata": {},
     "output_type": "display_data"
    },
    {
     "data": {
      "text/html": [
       "<pre style=\"white-space:pre;overflow-x:auto;line-height:normal;font-family:Menlo,'DejaVu Sans Mono',consolas,'Courier New',monospace\"><span style=\"font-weight: bold\"> Trainable params: </span><span style=\"color: #00af00; text-decoration-color: #00af00\">3,009</span> (11.75 KB)\n",
       "</pre>\n"
      ],
      "text/plain": [
       "\u001b[1m Trainable params: \u001b[0m\u001b[38;5;34m3,009\u001b[0m (11.75 KB)\n"
      ]
     },
     "metadata": {},
     "output_type": "display_data"
    },
    {
     "data": {
      "text/html": [
       "<pre style=\"white-space:pre;overflow-x:auto;line-height:normal;font-family:Menlo,'DejaVu Sans Mono',consolas,'Courier New',monospace\"><span style=\"font-weight: bold\"> Non-trainable params: </span><span style=\"color: #00af00; text-decoration-color: #00af00\">0</span> (0.00 B)\n",
       "</pre>\n"
      ],
      "text/plain": [
       "\u001b[1m Non-trainable params: \u001b[0m\u001b[38;5;34m0\u001b[0m (0.00 B)\n"
      ]
     },
     "metadata": {},
     "output_type": "display_data"
    },
    {
     "name": "stdout",
     "output_type": "stream",
     "text": [
      "None\n"
     ]
    }
   ],
   "source": [
    "print(model.summary())"
   ]
  },
  {
   "cell_type": "markdown",
   "id": "ba4e28f1-2e60-4c5d-b698-9b9f82b8fd96",
   "metadata": {},
   "source": [
    "#### Compile the model"
   ]
  },
  {
   "cell_type": "code",
   "execution_count": 12,
   "id": "8e1c3097-c738-4dee-bac6-835c5d37b1c3",
   "metadata": {},
   "outputs": [],
   "source": [
    "model.compile(loss=MeanSquaredError(), optimizer='adam', metrics=['mean_absolute_error'])"
   ]
  },
  {
   "cell_type": "markdown",
   "id": "7e15e8e7-d98d-4c0b-a6e4-29e836932032",
   "metadata": {},
   "source": [
    "#### Train the model "
   ]
  },
  {
   "cell_type": "code",
   "execution_count": 13,
   "id": "794938f5-7a60-4f2c-959b-e9f9a415b7ca",
   "metadata": {},
   "outputs": [
    {
     "name": "stdout",
     "output_type": "stream",
     "text": [
      "Epoch 1/100\n",
      "\u001b[1m9/9\u001b[0m \u001b[32m━━━━━━━━━━━━━━━━━━━━\u001b[0m\u001b[37m\u001b[0m \u001b[1m1s\u001b[0m 23ms/step - loss: 1516.8102 - mean_absolute_error: 31.3304 - val_loss: 585.8851 - val_mean_absolute_error: 22.7206\n",
      "Epoch 2/100\n",
      "\u001b[1m9/9\u001b[0m \u001b[32m━━━━━━━━━━━━━━━━━━━━\u001b[0m\u001b[37m\u001b[0m \u001b[1m0s\u001b[0m 8ms/step - loss: 639.9026 - mean_absolute_error: 23.2846 - val_loss: 584.1869 - val_mean_absolute_error: 22.6832\n",
      "Epoch 3/100\n",
      "\u001b[1m9/9\u001b[0m \u001b[32m━━━━━━━━━━━━━━━━━━━━\u001b[0m\u001b[37m\u001b[0m \u001b[1m0s\u001b[0m 6ms/step - loss: 603.6527 - mean_absolute_error: 22.7593 - val_loss: 582.3401 - val_mean_absolute_error: 22.6425\n",
      "Epoch 4/100\n",
      "\u001b[1m9/9\u001b[0m \u001b[32m━━━━━━━━━━━━━━━━━━━━\u001b[0m\u001b[37m\u001b[0m \u001b[1m0s\u001b[0m 5ms/step - loss: 599.4931 - mean_absolute_error: 22.7132 - val_loss: 580.4728 - val_mean_absolute_error: 22.6012\n",
      "Epoch 5/100\n",
      "\u001b[1m9/9\u001b[0m \u001b[32m━━━━━━━━━━━━━━━━━━━━\u001b[0m\u001b[37m\u001b[0m \u001b[1m0s\u001b[0m 8ms/step - loss: 646.6716 - mean_absolute_error: 23.3723 - val_loss: 578.5926 - val_mean_absolute_error: 22.5596\n",
      "Epoch 6/100\n",
      "\u001b[1m9/9\u001b[0m \u001b[32m━━━━━━━━━━━━━━━━━━━━\u001b[0m\u001b[37m\u001b[0m \u001b[1m0s\u001b[0m 6ms/step - loss: 632.8198 - mean_absolute_error: 23.1102 - val_loss: 576.7438 - val_mean_absolute_error: 22.5186\n",
      "Epoch 7/100\n",
      "\u001b[1m9/9\u001b[0m \u001b[32m━━━━━━━━━━━━━━━━━━━━\u001b[0m\u001b[37m\u001b[0m \u001b[1m0s\u001b[0m 5ms/step - loss: 626.6246 - mean_absolute_error: 23.0956 - val_loss: 574.9047 - val_mean_absolute_error: 22.4777\n",
      "Epoch 8/100\n",
      "\u001b[1m9/9\u001b[0m \u001b[32m━━━━━━━━━━━━━━━━━━━━\u001b[0m\u001b[37m\u001b[0m \u001b[1m0s\u001b[0m 5ms/step - loss: 645.8461 - mean_absolute_error: 23.5553 - val_loss: 573.0753 - val_mean_absolute_error: 22.4370\n",
      "Epoch 9/100\n",
      "\u001b[1m9/9\u001b[0m \u001b[32m━━━━━━━━━━━━━━━━━━━━\u001b[0m\u001b[37m\u001b[0m \u001b[1m0s\u001b[0m 6ms/step - loss: 621.6754 - mean_absolute_error: 22.9566 - val_loss: 571.2592 - val_mean_absolute_error: 22.3965\n",
      "Epoch 10/100\n",
      "\u001b[1m9/9\u001b[0m \u001b[32m━━━━━━━━━━━━━━━━━━━━\u001b[0m\u001b[37m\u001b[0m \u001b[1m0s\u001b[0m 6ms/step - loss: 569.1089 - mean_absolute_error: 21.9279 - val_loss: 569.4597 - val_mean_absolute_error: 22.3563\n",
      "Epoch 11/100\n",
      "\u001b[1m9/9\u001b[0m \u001b[32m━━━━━━━━━━━━━━━━━━━━\u001b[0m\u001b[37m\u001b[0m \u001b[1m0s\u001b[0m 6ms/step - loss: 613.7493 - mean_absolute_error: 22.7604 - val_loss: 567.6436 - val_mean_absolute_error: 22.3156\n",
      "Epoch 12/100\n",
      "\u001b[1m9/9\u001b[0m \u001b[32m━━━━━━━━━━━━━━━━━━━━\u001b[0m\u001b[37m\u001b[0m \u001b[1m0s\u001b[0m 6ms/step - loss: 587.8732 - mean_absolute_error: 22.1653 - val_loss: 565.8307 - val_mean_absolute_error: 22.2749\n",
      "Epoch 13/100\n",
      "\u001b[1m9/9\u001b[0m \u001b[32m━━━━━━━━━━━━━━━━━━━━\u001b[0m\u001b[37m\u001b[0m \u001b[1m0s\u001b[0m 6ms/step - loss: 623.3351 - mean_absolute_error: 22.9553 - val_loss: 564.0059 - val_mean_absolute_error: 22.2339\n",
      "Epoch 14/100\n",
      "\u001b[1m9/9\u001b[0m \u001b[32m━━━━━━━━━━━━━━━━━━━━\u001b[0m\u001b[37m\u001b[0m \u001b[1m0s\u001b[0m 6ms/step - loss: 614.9589 - mean_absolute_error: 22.9044 - val_loss: 562.1946 - val_mean_absolute_error: 22.1932\n",
      "Epoch 15/100\n",
      "\u001b[1m9/9\u001b[0m \u001b[32m━━━━━━━━━━━━━━━━━━━━\u001b[0m\u001b[37m\u001b[0m \u001b[1m0s\u001b[0m 6ms/step - loss: 597.0239 - mean_absolute_error: 22.6565 - val_loss: 560.3814 - val_mean_absolute_error: 22.1523\n",
      "Epoch 16/100\n",
      "\u001b[1m9/9\u001b[0m \u001b[32m━━━━━━━━━━━━━━━━━━━━\u001b[0m\u001b[37m\u001b[0m \u001b[1m0s\u001b[0m 6ms/step - loss: 569.3101 - mean_absolute_error: 22.0188 - val_loss: 558.5663 - val_mean_absolute_error: 22.1113\n",
      "Epoch 17/100\n",
      "\u001b[1m9/9\u001b[0m \u001b[32m━━━━━━━━━━━━━━━━━━━━\u001b[0m\u001b[37m\u001b[0m \u001b[1m0s\u001b[0m 7ms/step - loss: 596.9406 - mean_absolute_error: 22.5613 - val_loss: 556.7324 - val_mean_absolute_error: 22.0698\n",
      "Epoch 18/100\n",
      "\u001b[1m9/9\u001b[0m \u001b[32m━━━━━━━━━━━━━━━━━━━━\u001b[0m\u001b[37m\u001b[0m \u001b[1m0s\u001b[0m 8ms/step - loss: 589.1658 - mean_absolute_error: 22.2173 - val_loss: 554.8937 - val_mean_absolute_error: 22.0281\n",
      "Epoch 19/100\n",
      "\u001b[1m9/9\u001b[0m \u001b[32m━━━━━━━━━━━━━━━━━━━━\u001b[0m\u001b[37m\u001b[0m \u001b[1m0s\u001b[0m 6ms/step - loss: 579.6118 - mean_absolute_error: 22.2322 - val_loss: 553.0489 - val_mean_absolute_error: 21.9862\n",
      "Epoch 20/100\n",
      "\u001b[1m9/9\u001b[0m \u001b[32m━━━━━━━━━━━━━━━━━━━━\u001b[0m\u001b[37m\u001b[0m \u001b[1m0s\u001b[0m 6ms/step - loss: 584.1409 - mean_absolute_error: 22.4038 - val_loss: 551.1814 - val_mean_absolute_error: 21.9437\n",
      "Epoch 21/100\n",
      "\u001b[1m9/9\u001b[0m \u001b[32m━━━━━━━━━━━━━━━━━━━━\u001b[0m\u001b[37m\u001b[0m \u001b[1m0s\u001b[0m 8ms/step - loss: 560.7247 - mean_absolute_error: 21.6708 - val_loss: 549.3136 - val_mean_absolute_error: 21.9011\n",
      "Epoch 22/100\n",
      "\u001b[1m9/9\u001b[0m \u001b[32m━━━━━━━━━━━━━━━━━━━━\u001b[0m\u001b[37m\u001b[0m \u001b[1m0s\u001b[0m 6ms/step - loss: 607.4151 - mean_absolute_error: 22.4708 - val_loss: 547.4273 - val_mean_absolute_error: 21.8579\n",
      "Epoch 23/100\n",
      "\u001b[1m9/9\u001b[0m \u001b[32m━━━━━━━━━━━━━━━━━━━━\u001b[0m\u001b[37m\u001b[0m \u001b[1m0s\u001b[0m 6ms/step - loss: 611.4378 - mean_absolute_error: 22.6564 - val_loss: 545.5225 - val_mean_absolute_error: 21.8143\n",
      "Epoch 24/100\n",
      "\u001b[1m9/9\u001b[0m \u001b[32m━━━━━━━━━━━━━━━━━━━━\u001b[0m\u001b[37m\u001b[0m \u001b[1m0s\u001b[0m 6ms/step - loss: 566.0662 - mean_absolute_error: 21.8941 - val_loss: 543.6187 - val_mean_absolute_error: 21.7707\n",
      "Epoch 25/100\n",
      "\u001b[1m9/9\u001b[0m \u001b[32m━━━━━━━━━━━━━━━━━━━━\u001b[0m\u001b[37m\u001b[0m \u001b[1m0s\u001b[0m 6ms/step - loss: 568.2726 - mean_absolute_error: 21.8634 - val_loss: 541.6789 - val_mean_absolute_error: 21.7261\n",
      "Epoch 26/100\n",
      "\u001b[1m9/9\u001b[0m \u001b[32m━━━━━━━━━━━━━━━━━━━━\u001b[0m\u001b[37m\u001b[0m \u001b[1m0s\u001b[0m 5ms/step - loss: 593.8865 - mean_absolute_error: 22.3550 - val_loss: 539.7252 - val_mean_absolute_error: 21.6810\n",
      "Epoch 27/100\n",
      "\u001b[1m9/9\u001b[0m \u001b[32m━━━━━━━━━━━━━━━━━━━━\u001b[0m\u001b[37m\u001b[0m \u001b[1m0s\u001b[0m 6ms/step - loss: 612.5312 - mean_absolute_error: 22.6644 - val_loss: 537.7571 - val_mean_absolute_error: 21.6356\n",
      "Epoch 28/100\n",
      "\u001b[1m9/9\u001b[0m \u001b[32m━━━━━━━━━━━━━━━━━━━━\u001b[0m\u001b[37m\u001b[0m \u001b[1m0s\u001b[0m 5ms/step - loss: 554.1805 - mean_absolute_error: 21.7727 - val_loss: 535.7783 - val_mean_absolute_error: 21.5898\n",
      "Epoch 29/100\n",
      "\u001b[1m9/9\u001b[0m \u001b[32m━━━━━━━━━━━━━━━━━━━━\u001b[0m\u001b[37m\u001b[0m \u001b[1m0s\u001b[0m 6ms/step - loss: 589.6210 - mean_absolute_error: 22.2500 - val_loss: 533.7536 - val_mean_absolute_error: 21.5429\n",
      "Epoch 30/100\n",
      "\u001b[1m9/9\u001b[0m \u001b[32m━━━━━━━━━━━━━━━━━━━━\u001b[0m\u001b[37m\u001b[0m \u001b[1m0s\u001b[0m 6ms/step - loss: 540.0764 - mean_absolute_error: 21.3669 - val_loss: 531.7211 - val_mean_absolute_error: 21.4957\n",
      "Epoch 31/100\n",
      "\u001b[1m9/9\u001b[0m \u001b[32m━━━━━━━━━━━━━━━━━━━━\u001b[0m\u001b[37m\u001b[0m \u001b[1m0s\u001b[0m 6ms/step - loss: 549.9886 - mean_absolute_error: 21.4029 - val_loss: 529.6468 - val_mean_absolute_error: 21.4474\n",
      "Epoch 32/100\n",
      "\u001b[1m9/9\u001b[0m \u001b[32m━━━━━━━━━━━━━━━━━━━━\u001b[0m\u001b[37m\u001b[0m \u001b[1m0s\u001b[0m 7ms/step - loss: 573.9637 - mean_absolute_error: 21.9113 - val_loss: 527.5425 - val_mean_absolute_error: 21.3983\n",
      "Epoch 33/100\n",
      "\u001b[1m9/9\u001b[0m \u001b[32m━━━━━━━━━━━━━━━━━━━━\u001b[0m\u001b[37m\u001b[0m \u001b[1m0s\u001b[0m 7ms/step - loss: 601.5614 - mean_absolute_error: 22.3574 - val_loss: 525.4042 - val_mean_absolute_error: 21.3482\n",
      "Epoch 34/100\n",
      "\u001b[1m9/9\u001b[0m \u001b[32m━━━━━━━━━━━━━━━━━━━━\u001b[0m\u001b[37m\u001b[0m \u001b[1m0s\u001b[0m 6ms/step - loss: 560.1528 - mean_absolute_error: 21.7012 - val_loss: 523.2580 - val_mean_absolute_error: 21.2979\n",
      "Epoch 35/100\n",
      "\u001b[1m9/9\u001b[0m \u001b[32m━━━━━━━━━━━━━━━━━━━━\u001b[0m\u001b[37m\u001b[0m \u001b[1m0s\u001b[0m 6ms/step - loss: 563.1260 - mean_absolute_error: 21.5763 - val_loss: 521.0777 - val_mean_absolute_error: 21.2467\n",
      "Epoch 36/100\n",
      "\u001b[1m9/9\u001b[0m \u001b[32m━━━━━━━━━━━━━━━━━━━━\u001b[0m\u001b[37m\u001b[0m \u001b[1m0s\u001b[0m 6ms/step - loss: 566.1396 - mean_absolute_error: 21.6742 - val_loss: 518.8552 - val_mean_absolute_error: 21.1943\n",
      "Epoch 37/100\n",
      "\u001b[1m9/9\u001b[0m \u001b[32m━━━━━━━━━━━━━━━━━━━━\u001b[0m\u001b[37m\u001b[0m \u001b[1m0s\u001b[0m 5ms/step - loss: 570.7753 - mean_absolute_error: 21.7045 - val_loss: 516.6015 - val_mean_absolute_error: 21.1411\n",
      "Epoch 38/100\n",
      "\u001b[1m9/9\u001b[0m \u001b[32m━━━━━━━━━━━━━━━━━━━━\u001b[0m\u001b[37m\u001b[0m \u001b[1m0s\u001b[0m 6ms/step - loss: 573.3882 - mean_absolute_error: 21.9582 - val_loss: 514.2943 - val_mean_absolute_error: 21.0864\n",
      "Epoch 39/100\n",
      "\u001b[1m9/9\u001b[0m \u001b[32m━━━━━━━━━━━━━━━━━━━━\u001b[0m\u001b[37m\u001b[0m \u001b[1m0s\u001b[0m 5ms/step - loss: 526.2821 - mean_absolute_error: 20.9745 - val_loss: 511.9854 - val_mean_absolute_error: 21.0316\n",
      "Epoch 40/100\n",
      "\u001b[1m9/9\u001b[0m \u001b[32m━━━━━━━━━━━━━━━━━━━━\u001b[0m\u001b[37m\u001b[0m \u001b[1m0s\u001b[0m 6ms/step - loss: 549.7489 - mean_absolute_error: 21.4025 - val_loss: 509.6064 - val_mean_absolute_error: 20.9750\n",
      "Epoch 41/100\n",
      "\u001b[1m9/9\u001b[0m \u001b[32m━━━━━━━━━━━━━━━━━━━━\u001b[0m\u001b[37m\u001b[0m \u001b[1m0s\u001b[0m 6ms/step - loss: 586.4626 - mean_absolute_error: 21.9127 - val_loss: 507.1875 - val_mean_absolute_error: 20.9172\n",
      "Epoch 42/100\n",
      "\u001b[1m9/9\u001b[0m \u001b[32m━━━━━━━━━━━━━━━━━━━━\u001b[0m\u001b[37m\u001b[0m \u001b[1m0s\u001b[0m 5ms/step - loss: 547.2381 - mean_absolute_error: 21.1824 - val_loss: 504.7549 - val_mean_absolute_error: 20.8590\n",
      "Epoch 43/100\n",
      "\u001b[1m9/9\u001b[0m \u001b[32m━━━━━━━━━━━━━━━━━━━━\u001b[0m\u001b[37m\u001b[0m \u001b[1m0s\u001b[0m 7ms/step - loss: 551.1818 - mean_absolute_error: 21.1979 - val_loss: 502.2597 - val_mean_absolute_error: 20.7991\n",
      "Epoch 44/100\n",
      "\u001b[1m9/9\u001b[0m \u001b[32m━━━━━━━━━━━━━━━━━━━━\u001b[0m\u001b[37m\u001b[0m \u001b[1m0s\u001b[0m 7ms/step - loss: 583.7944 - mean_absolute_error: 21.7526 - val_loss: 499.7151 - val_mean_absolute_error: 20.7378\n",
      "Epoch 45/100\n",
      "\u001b[1m9/9\u001b[0m \u001b[32m━━━━━━━━━━━━━━━━━━━━\u001b[0m\u001b[37m\u001b[0m \u001b[1m0s\u001b[0m 5ms/step - loss: 536.4064 - mean_absolute_error: 21.1269 - val_loss: 497.1430 - val_mean_absolute_error: 20.6757\n",
      "Epoch 46/100\n",
      "\u001b[1m9/9\u001b[0m \u001b[32m━━━━━━━━━━━━━━━━━━━━\u001b[0m\u001b[37m\u001b[0m \u001b[1m0s\u001b[0m 10ms/step - loss: 559.3240 - mean_absolute_error: 21.5428 - val_loss: 494.5140 - val_mean_absolute_error: 20.6120\n",
      "Epoch 47/100\n",
      "\u001b[1m9/9\u001b[0m \u001b[32m━━━━━━━━━━━━━━━━━━━━\u001b[0m\u001b[37m\u001b[0m \u001b[1m0s\u001b[0m 6ms/step - loss: 513.8918 - mean_absolute_error: 20.6531 - val_loss: 491.8540 - val_mean_absolute_error: 20.5474\n",
      "Epoch 48/100\n",
      "\u001b[1m9/9\u001b[0m \u001b[32m━━━━━━━━━━━━━━━━━━━━\u001b[0m\u001b[37m\u001b[0m \u001b[1m0s\u001b[0m 6ms/step - loss: 528.3940 - mean_absolute_error: 20.8367 - val_loss: 489.1315 - val_mean_absolute_error: 20.4811\n",
      "Epoch 49/100\n",
      "\u001b[1m9/9\u001b[0m \u001b[32m━━━━━━━━━━━━━━━━━━━━\u001b[0m\u001b[37m\u001b[0m \u001b[1m0s\u001b[0m 5ms/step - loss: 508.6237 - mean_absolute_error: 20.6095 - val_loss: 486.3605 - val_mean_absolute_error: 20.4133\n",
      "Epoch 50/100\n",
      "\u001b[1m9/9\u001b[0m \u001b[32m━━━━━━━━━━━━━━━━━━━━\u001b[0m\u001b[37m\u001b[0m \u001b[1m0s\u001b[0m 7ms/step - loss: 482.2100 - mean_absolute_error: 19.8650 - val_loss: 483.5491 - val_mean_absolute_error: 20.3443\n",
      "Epoch 51/100\n",
      "\u001b[1m9/9\u001b[0m \u001b[32m━━━━━━━━━━━━━━━━━━━━\u001b[0m\u001b[37m\u001b[0m \u001b[1m0s\u001b[0m 5ms/step - loss: 503.2834 - mean_absolute_error: 20.3465 - val_loss: 480.6678 - val_mean_absolute_error: 20.2734\n",
      "Epoch 52/100\n",
      "\u001b[1m9/9\u001b[0m \u001b[32m━━━━━━━━━━━━━━━━━━━━\u001b[0m\u001b[37m\u001b[0m \u001b[1m0s\u001b[0m 6ms/step - loss: 481.1751 - mean_absolute_error: 19.8118 - val_loss: 477.7651 - val_mean_absolute_error: 20.2017\n",
      "Epoch 53/100\n",
      "\u001b[1m9/9\u001b[0m \u001b[32m━━━━━━━━━━━━━━━━━━━━\u001b[0m\u001b[37m\u001b[0m \u001b[1m0s\u001b[0m 6ms/step - loss: 501.8320 - mean_absolute_error: 20.3700 - val_loss: 474.7777 - val_mean_absolute_error: 20.1276\n",
      "Epoch 54/100\n",
      "\u001b[1m9/9\u001b[0m \u001b[32m━━━━━━━━━━━━━━━━━━━━\u001b[0m\u001b[37m\u001b[0m \u001b[1m0s\u001b[0m 6ms/step - loss: 508.2000 - mean_absolute_error: 20.5263 - val_loss: 471.7416 - val_mean_absolute_error: 20.0520\n",
      "Epoch 55/100\n",
      "\u001b[1m9/9\u001b[0m \u001b[32m━━━━━━━━━━━━━━━━━━━━\u001b[0m\u001b[37m\u001b[0m \u001b[1m0s\u001b[0m 7ms/step - loss: 502.0095 - mean_absolute_error: 20.1855 - val_loss: 468.6768 - val_mean_absolute_error: 19.9755\n",
      "Epoch 56/100\n",
      "\u001b[1m9/9\u001b[0m \u001b[32m━━━━━━━━━━━━━━━━━━━━\u001b[0m\u001b[37m\u001b[0m \u001b[1m0s\u001b[0m 6ms/step - loss: 518.2094 - mean_absolute_error: 20.6547 - val_loss: 465.5110 - val_mean_absolute_error: 19.8961\n",
      "Epoch 57/100\n",
      "\u001b[1m9/9\u001b[0m \u001b[32m━━━━━━━━━━━━━━━━━━━━\u001b[0m\u001b[37m\u001b[0m \u001b[1m0s\u001b[0m 4ms/step - loss: 470.3681 - mean_absolute_error: 19.5763 - val_loss: 462.3607 - val_mean_absolute_error: 19.8167\n",
      "Epoch 58/100\n",
      "\u001b[1m9/9\u001b[0m \u001b[32m━━━━━━━━━━━━━━━━━━━━\u001b[0m\u001b[37m\u001b[0m \u001b[1m0s\u001b[0m 7ms/step - loss: 505.7107 - mean_absolute_error: 20.2736 - val_loss: 459.0943 - val_mean_absolute_error: 19.7342\n",
      "Epoch 59/100\n",
      "\u001b[1m9/9\u001b[0m \u001b[32m━━━━━━━━━━━━━━━━━━━━\u001b[0m\u001b[37m\u001b[0m \u001b[1m0s\u001b[0m 7ms/step - loss: 510.3208 - mean_absolute_error: 20.4346 - val_loss: 455.8108 - val_mean_absolute_error: 19.6508\n",
      "Epoch 60/100\n",
      "\u001b[1m9/9\u001b[0m \u001b[32m━━━━━━━━━━━━━━━━━━━━\u001b[0m\u001b[37m\u001b[0m \u001b[1m0s\u001b[0m 6ms/step - loss: 475.0642 - mean_absolute_error: 19.5282 - val_loss: 452.4931 - val_mean_absolute_error: 19.5662\n",
      "Epoch 61/100\n",
      "\u001b[1m9/9\u001b[0m \u001b[32m━━━━━━━━━━━━━━━━━━━━\u001b[0m\u001b[37m\u001b[0m \u001b[1m0s\u001b[0m 6ms/step - loss: 457.5831 - mean_absolute_error: 19.1837 - val_loss: 449.0973 - val_mean_absolute_error: 19.4792\n",
      "Epoch 62/100\n",
      "\u001b[1m9/9\u001b[0m \u001b[32m━━━━━━━━━━━━━━━━━━━━\u001b[0m\u001b[37m\u001b[0m \u001b[1m0s\u001b[0m 6ms/step - loss: 495.8233 - mean_absolute_error: 20.0448 - val_loss: 445.6243 - val_mean_absolute_error: 19.3899\n",
      "Epoch 63/100\n",
      "\u001b[1m9/9\u001b[0m \u001b[32m━━━━━━━━━━━━━━━━━━━━\u001b[0m\u001b[37m\u001b[0m \u001b[1m0s\u001b[0m 8ms/step - loss: 461.8506 - mean_absolute_error: 19.5014 - val_loss: 442.1408 - val_mean_absolute_error: 19.2998\n",
      "Epoch 64/100\n",
      "\u001b[1m9/9\u001b[0m \u001b[32m━━━━━━━━━━━━━━━━━━━━\u001b[0m\u001b[37m\u001b[0m \u001b[1m0s\u001b[0m 4ms/step - loss: 482.8337 - mean_absolute_error: 19.6784 - val_loss: 438.5671 - val_mean_absolute_error: 19.2070\n",
      "Epoch 65/100\n",
      "\u001b[1m9/9\u001b[0m \u001b[32m━━━━━━━━━━━━━━━━━━━━\u001b[0m\u001b[37m\u001b[0m \u001b[1m0s\u001b[0m 5ms/step - loss: 487.1634 - mean_absolute_error: 19.7852 - val_loss: 434.9450 - val_mean_absolute_error: 19.1125\n",
      "Epoch 66/100\n",
      "\u001b[1m9/9\u001b[0m \u001b[32m━━━━━━━━━━━━━━━━━━━━\u001b[0m\u001b[37m\u001b[0m \u001b[1m0s\u001b[0m 6ms/step - loss: 460.7339 - mean_absolute_error: 19.1699 - val_loss: 431.2970 - val_mean_absolute_error: 19.0168\n",
      "Epoch 67/100\n",
      "\u001b[1m9/9\u001b[0m \u001b[32m━━━━━━━━━━━━━━━━━━━━\u001b[0m\u001b[37m\u001b[0m \u001b[1m0s\u001b[0m 8ms/step - loss: 473.4637 - mean_absolute_error: 19.5271 - val_loss: 427.5875 - val_mean_absolute_error: 18.9190\n",
      "Epoch 68/100\n",
      "\u001b[1m9/9\u001b[0m \u001b[32m━━━━━━━━━━━━━━━━━━━━\u001b[0m\u001b[37m\u001b[0m \u001b[1m0s\u001b[0m 7ms/step - loss: 478.8905 - mean_absolute_error: 19.5055 - val_loss: 423.8225 - val_mean_absolute_error: 18.8193\n",
      "Epoch 69/100\n",
      "\u001b[1m9/9\u001b[0m \u001b[32m━━━━━━━━━━━━━━━━━━━━\u001b[0m\u001b[37m\u001b[0m \u001b[1m0s\u001b[0m 7ms/step - loss: 482.4906 - mean_absolute_error: 19.6685 - val_loss: 420.0064 - val_mean_absolute_error: 18.7176\n",
      "Epoch 70/100\n",
      "\u001b[1m9/9\u001b[0m \u001b[32m━━━━━━━━━━━━━━━━━━━━\u001b[0m\u001b[37m\u001b[0m \u001b[1m0s\u001b[0m 5ms/step - loss: 490.2246 - mean_absolute_error: 19.5912 - val_loss: 416.1386 - val_mean_absolute_error: 18.6140\n",
      "Epoch 71/100\n",
      "\u001b[1m9/9\u001b[0m \u001b[32m━━━━━━━━━━━━━━━━━━━━\u001b[0m\u001b[37m\u001b[0m \u001b[1m0s\u001b[0m 10ms/step - loss: 450.2688 - mean_absolute_error: 18.8861 - val_loss: 412.2494 - val_mean_absolute_error: 18.5092\n",
      "Epoch 72/100\n",
      "\u001b[1m9/9\u001b[0m \u001b[32m━━━━━━━━━━━━━━━━━━━━\u001b[0m\u001b[37m\u001b[0m \u001b[1m0s\u001b[0m 7ms/step - loss: 421.5179 - mean_absolute_error: 18.3715 - val_loss: 408.3304 - val_mean_absolute_error: 18.4031\n",
      "Epoch 73/100\n",
      "\u001b[1m9/9\u001b[0m \u001b[32m━━━━━━━━━━━━━━━━━━━━\u001b[0m\u001b[37m\u001b[0m \u001b[1m0s\u001b[0m 5ms/step - loss: 444.8480 - mean_absolute_error: 18.8008 - val_loss: 404.3235 - val_mean_absolute_error: 18.2939\n",
      "Epoch 74/100\n",
      "\u001b[1m9/9\u001b[0m \u001b[32m━━━━━━━━━━━━━━━━━━━━\u001b[0m\u001b[37m\u001b[0m \u001b[1m0s\u001b[0m 5ms/step - loss: 440.5099 - mean_absolute_error: 18.4489 - val_loss: 400.2801 - val_mean_absolute_error: 18.1830\n",
      "Epoch 75/100\n",
      "\u001b[1m9/9\u001b[0m \u001b[32m━━━━━━━━━━━━━━━━━━━━\u001b[0m\u001b[37m\u001b[0m \u001b[1m0s\u001b[0m 6ms/step - loss: 471.4771 - mean_absolute_error: 19.4480 - val_loss: 396.1488 - val_mean_absolute_error: 18.0691\n",
      "Epoch 76/100\n",
      "\u001b[1m9/9\u001b[0m \u001b[32m━━━━━━━━━━━━━━━━━━━━\u001b[0m\u001b[37m\u001b[0m \u001b[1m0s\u001b[0m 7ms/step - loss: 422.4395 - mean_absolute_error: 18.2738 - val_loss: 392.0400 - val_mean_absolute_error: 17.9550\n",
      "Epoch 77/100\n",
      "\u001b[1m9/9\u001b[0m \u001b[32m━━━━━━━━━━━━━━━━━━━━\u001b[0m\u001b[37m\u001b[0m \u001b[1m0s\u001b[0m 7ms/step - loss: 400.5904 - mean_absolute_error: 17.7107 - val_loss: 387.8782 - val_mean_absolute_error: 17.8387\n",
      "Epoch 78/100\n",
      "\u001b[1m9/9\u001b[0m \u001b[32m━━━━━━━━━━━━━━━━━━━━\u001b[0m\u001b[37m\u001b[0m \u001b[1m0s\u001b[0m 4ms/step - loss: 407.3138 - mean_absolute_error: 17.8991 - val_loss: 383.6689 - val_mean_absolute_error: 17.7204\n",
      "Epoch 79/100\n",
      "\u001b[1m9/9\u001b[0m \u001b[32m━━━━━━━━━━━━━━━━━━━━\u001b[0m\u001b[37m\u001b[0m \u001b[1m0s\u001b[0m 6ms/step - loss: 405.3290 - mean_absolute_error: 17.7957 - val_loss: 379.4181 - val_mean_absolute_error: 17.6000\n",
      "Epoch 80/100\n",
      "\u001b[1m9/9\u001b[0m \u001b[32m━━━━━━━━━━━━━━━━━━━━\u001b[0m\u001b[37m\u001b[0m \u001b[1m0s\u001b[0m 6ms/step - loss: 409.3650 - mean_absolute_error: 17.7314 - val_loss: 375.1159 - val_mean_absolute_error: 17.4774\n",
      "Epoch 81/100\n",
      "\u001b[1m9/9\u001b[0m \u001b[32m━━━━━━━━━━━━━━━━━━━━\u001b[0m\u001b[37m\u001b[0m \u001b[1m0s\u001b[0m 4ms/step - loss: 413.8960 - mean_absolute_error: 17.7539 - val_loss: 370.7832 - val_mean_absolute_error: 17.3530\n",
      "Epoch 82/100\n",
      "\u001b[1m9/9\u001b[0m \u001b[32m━━━━━━━━━━━━━━━━━━━━\u001b[0m\u001b[37m\u001b[0m \u001b[1m0s\u001b[0m 6ms/step - loss: 401.8507 - mean_absolute_error: 17.8312 - val_loss: 366.4098 - val_mean_absolute_error: 17.2265\n",
      "Epoch 83/100\n",
      "\u001b[1m9/9\u001b[0m \u001b[32m━━━━━━━━━━━━━━━━━━━━\u001b[0m\u001b[37m\u001b[0m \u001b[1m0s\u001b[0m 7ms/step - loss: 424.5658 - mean_absolute_error: 17.8985 - val_loss: 362.0004 - val_mean_absolute_error: 17.0980\n",
      "Epoch 84/100\n",
      "\u001b[1m9/9\u001b[0m \u001b[32m━━━━━━━━━━━━━━━━━━━━\u001b[0m\u001b[37m\u001b[0m \u001b[1m0s\u001b[0m 7ms/step - loss: 390.2556 - mean_absolute_error: 17.3600 - val_loss: 357.5771 - val_mean_absolute_error: 16.9682\n",
      "Epoch 85/100\n",
      "\u001b[1m9/9\u001b[0m \u001b[32m━━━━━━━━━━━━━━━━━━━━\u001b[0m\u001b[37m\u001b[0m \u001b[1m0s\u001b[0m 8ms/step - loss: 413.0954 - mean_absolute_error: 17.6948 - val_loss: 353.1314 - val_mean_absolute_error: 16.8367\n",
      "Epoch 86/100\n",
      "\u001b[1m9/9\u001b[0m \u001b[32m━━━━━━━━━━━━━━━━━━━━\u001b[0m\u001b[37m\u001b[0m \u001b[1m0s\u001b[0m 6ms/step - loss: 364.3926 - mean_absolute_error: 16.8662 - val_loss: 348.6883 - val_mean_absolute_error: 16.7042\n",
      "Epoch 87/100\n",
      "\u001b[1m9/9\u001b[0m \u001b[32m━━━━━━━━━━━━━━━━━━━━\u001b[0m\u001b[37m\u001b[0m \u001b[1m0s\u001b[0m 6ms/step - loss: 386.4388 - mean_absolute_error: 17.1722 - val_loss: 344.1918 - val_mean_absolute_error: 16.5691\n",
      "Epoch 88/100\n",
      "\u001b[1m9/9\u001b[0m \u001b[32m━━━━━━━━━━━━━━━━━━━━\u001b[0m\u001b[37m\u001b[0m \u001b[1m0s\u001b[0m 6ms/step - loss: 391.9943 - mean_absolute_error: 17.1975 - val_loss: 339.6679 - val_mean_absolute_error: 16.4320\n",
      "Epoch 89/100\n",
      "\u001b[1m9/9\u001b[0m \u001b[32m━━━━━━━━━━━━━━━━━━━━\u001b[0m\u001b[37m\u001b[0m \u001b[1m0s\u001b[0m 7ms/step - loss: 367.4701 - mean_absolute_error: 16.6384 - val_loss: 335.1155 - val_mean_absolute_error: 16.2929\n",
      "Epoch 90/100\n",
      "\u001b[1m9/9\u001b[0m \u001b[32m━━━━━━━━━━━━━━━━━━━━\u001b[0m\u001b[37m\u001b[0m \u001b[1m0s\u001b[0m 6ms/step - loss: 345.4639 - mean_absolute_error: 16.3270 - val_loss: 330.6025 - val_mean_absolute_error: 16.1538\n",
      "Epoch 91/100\n",
      "\u001b[1m9/9\u001b[0m \u001b[32m━━━━━━━━━━━━━━━━━━━━\u001b[0m\u001b[37m\u001b[0m \u001b[1m0s\u001b[0m 6ms/step - loss: 384.9382 - mean_absolute_error: 16.8944 - val_loss: 325.9976 - val_mean_absolute_error: 16.0106\n",
      "Epoch 92/100\n",
      "\u001b[1m9/9\u001b[0m \u001b[32m━━━━━━━━━━━━━━━━━━━━\u001b[0m\u001b[37m\u001b[0m \u001b[1m0s\u001b[0m 6ms/step - loss: 342.9432 - mean_absolute_error: 15.9600 - val_loss: 321.4233 - val_mean_absolute_error: 15.8671\n",
      "Epoch 93/100\n",
      "\u001b[1m9/9\u001b[0m \u001b[32m━━━━━━━━━━━━━━━━━━━━\u001b[0m\u001b[37m\u001b[0m \u001b[1m0s\u001b[0m 5ms/step - loss: 369.5618 - mean_absolute_error: 16.5703 - val_loss: 316.8058 - val_mean_absolute_error: 15.7210\n",
      "Epoch 94/100\n",
      "\u001b[1m9/9\u001b[0m \u001b[32m━━━━━━━━━━━━━━━━━━━━\u001b[0m\u001b[37m\u001b[0m \u001b[1m0s\u001b[0m 7ms/step - loss: 331.9984 - mean_absolute_error: 15.4972 - val_loss: 312.2281 - val_mean_absolute_error: 15.5747\n",
      "Epoch 95/100\n",
      "\u001b[1m9/9\u001b[0m \u001b[32m━━━━━━━━━━━━━━━━━━━━\u001b[0m\u001b[37m\u001b[0m \u001b[1m0s\u001b[0m 6ms/step - loss: 352.3920 - mean_absolute_error: 16.0542 - val_loss: 307.5918 - val_mean_absolute_error: 15.4285\n",
      "Epoch 96/100\n",
      "\u001b[1m9/9\u001b[0m \u001b[32m━━━━━━━━━━━━━━━━━━━━\u001b[0m\u001b[37m\u001b[0m \u001b[1m0s\u001b[0m 6ms/step - loss: 372.1382 - mean_absolute_error: 16.4446 - val_loss: 302.9604 - val_mean_absolute_error: 15.2839\n",
      "Epoch 97/100\n",
      "\u001b[1m9/9\u001b[0m \u001b[32m━━━━━━━━━━━━━━━━━━━━\u001b[0m\u001b[37m\u001b[0m \u001b[1m0s\u001b[0m 7ms/step - loss: 368.3943 - mean_absolute_error: 16.4464 - val_loss: 298.3311 - val_mean_absolute_error: 15.1402\n",
      "Epoch 98/100\n",
      "\u001b[1m9/9\u001b[0m \u001b[32m━━━━━━━━━━━━━━━━━━━━\u001b[0m\u001b[37m\u001b[0m \u001b[1m0s\u001b[0m 6ms/step - loss: 311.4586 - mean_absolute_error: 15.1844 - val_loss: 293.7699 - val_mean_absolute_error: 14.9971\n",
      "Epoch 99/100\n",
      "\u001b[1m9/9\u001b[0m \u001b[32m━━━━━━━━━━━━━━━━━━━━\u001b[0m\u001b[37m\u001b[0m \u001b[1m0s\u001b[0m 6ms/step - loss: 293.4983 - mean_absolute_error: 14.5587 - val_loss: 289.2122 - val_mean_absolute_error: 14.8527\n",
      "Epoch 100/100\n",
      "\u001b[1m9/9\u001b[0m \u001b[32m━━━━━━━━━━━━━━━━━━━━\u001b[0m\u001b[37m\u001b[0m \u001b[1m0s\u001b[0m 6ms/step - loss: 312.2097 - mean_absolute_error: 14.9151 - val_loss: 284.6137 - val_mean_absolute_error: 14.7055\n"
     ]
    }
   ],
   "source": [
    "early_stopping = EarlyStopping(monitor='val_loss', patience=5) \n",
    "history = model.fit(X_train, y_train, validation_split=0.2, epochs=100, batch_size=32, \n",
    "                    callbacks=[early_stopping])"
   ]
  },
  {
   "cell_type": "markdown",
   "id": "e367dd39-7ad9-426f-9692-433d60c93ce5",
   "metadata": {},
   "source": [
    "#### Plot the training and validation loss over epochs "
   ]
  },
  {
   "cell_type": "code",
   "execution_count": 14,
   "id": "58693dce-dcc1-4388-8eb1-cafed27bffa5",
   "metadata": {},
   "outputs": [
    {
     "data": {
      "image/png": "[encoded data removed]",
      "text/plain": [
       "<Figure size 640x480 with 1 Axes>"
      ]
     },
     "metadata": {},
     "output_type": "display_data"
    }
   ],
   "source": [
    "plt.plot(history.history['loss']) \n",
    "plt.plot(history.history['val_loss']) \n",
    "plt.title('Model Loss') \n",
    "plt.xlabel('Epochs') \n",
    "plt.ylabel('Loss') \n",
    "plt.legend(['Training', 'Validation']) \n",
    "plt.show()"
   ]
  },
  {
   "cell_type": "markdown",
   "id": "c9d30225-fc6f-4874-bbde-756dac646760",
   "metadata": {},
   "source": [
    "#### Evaluate the model on the testing set loss"
   ]
  },
  {
   "cell_type": "code",
   "execution_count": 15,
   "id": "af564d1d-6e7f-4272-b5af-988523610d41",
   "metadata": {},
   "outputs": [
    {
     "name": "stdout",
     "output_type": "stream",
     "text": [
      "\u001b[1m5/5\u001b[0m \u001b[32m━━━━━━━━━━━━━━━━━━━━\u001b[0m\u001b[37m\u001b[0m \u001b[1m0s\u001b[0m 3ms/step - loss: 245.3791 - mean_absolute_error: 13.3395\n"
     ]
    }
   ],
   "source": [
    " mae = model.evaluate (X_test, y_test)"
   ]
  },
  {
   "cell_type": "markdown",
   "id": "0c9a2502-3fc4-4528-8e9d-dd72d3c1e5c2",
   "metadata": {},
   "source": [
    "#### Print the mean absolute error "
   ]
  },
  {
   "cell_type": "code",
   "execution_count": 16,
   "id": "9077bb80-9956-469c-8421-5eb02df57f95",
   "metadata": {},
   "outputs": [
    {
     "name": "stdout",
     "output_type": "stream",
     "text": [
      "Mean Absolute Error: [252.0478057861328, 13.393306732177734]\n"
     ]
    }
   ],
   "source": [
    "print('Mean Absolute Error:', mae) "
   ]
  }
 ],
 "metadata": {
  "kernelspec": {
   "display_name": "Python 3 (ipykernel)",
   "language": "python",
   "name": "python3"
  },
  "language_info": {
   "codemirror_mode": {
    "name": "ipython",
    "version": 3
   },
   "file_extension": ".py",
   "mimetype": "text/x-python",
   "name": "python",
   "nbconvert_exporter": "python",
   "pygments_lexer": "ipython3",
   "version": "3.11.7"
  }
 },
 "nbformat": 4,
 "nbformat_minor": 5
}
